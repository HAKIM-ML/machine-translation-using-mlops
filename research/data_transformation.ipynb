{
 "cells": [
  {
   "cell_type": "code",
   "execution_count": 1,
   "metadata": {},
   "outputs": [],
   "source": [
    "import os\n",
    "os.chdir('../')"
   ]
  },
  {
   "cell_type": "code",
   "execution_count": 2,
   "metadata": {},
   "outputs": [],
   "source": [
    "from dataclasses import dataclass\n",
    "from pathlib import Path\n",
    "\n",
    "@dataclass(frozen=True)\n",
    "class DataTransformationConfig:\n",
    "    root_dir : Path\n",
    "    data_path : Path\n",
    "    tokenizer_path : Path\n",
    "    max_length : int"
   ]
  },
  {
   "cell_type": "code",
   "execution_count": 3,
   "metadata": {},
   "outputs": [],
   "source": [
    "from machinetranslation.constants import *\n",
    "from machinetranslation.utils.common import read_yaml,create_directories\n",
    "\n",
    "class ConfigurationManager:\n",
    "    def __init__(\n",
    "        self,\n",
    "        config_filepath = CONFIG_FILE_PATH,\n",
    "        params_filepath = PARAMS_FILE_PATH):\n",
    "\n",
    "        self.config = read_yaml(config_filepath)\n",
    "        self.params = read_yaml(params_filepath)\n",
    "\n",
    "        create_directories([self.config.artifacts_root])\n",
    "\n",
    "    def get_data_transformation_config(self) -> DataTransformationConfig:\n",
    "        config = self.config.data_transformation\n",
    "        \n",
    "        create_directories([config.root_dir])\n",
    "        \n",
    "        data_transformation_config = DataTransformationConfig(\n",
    "            root_dir=config.root_dir,\n",
    "            data_path=config.data_path,\n",
    "            tokenizer_path=config.tokenizer_path,\n",
    "            max_length=config.max_lenght\n",
    "        )\n",
    "        \n",
    "        return data_transformation_config"
   ]
  },
  {
   "cell_type": "code",
   "execution_count": 4,
   "metadata": {},
   "outputs": [
    {
     "name": "stdout",
     "output_type": "stream",
     "text": [
      "[2024-08-09 17:53:19,139: INFO: config: PyTorch version 2.2.2+cu121 available.]\n",
      "[2024-08-09 17:53:19,141: INFO: config: TensorFlow version 2.12.0 available.]\n"
     ]
    }
   ],
   "source": [
    "\n",
    "from datasets import Dataset\n",
    "from transformers import M2M100Tokenizer\n",
    "import pandas as pd\n",
    "from machinetranslation.logging import logger\n",
    "from typing import Tuple\n",
    "\n",
    "class DataTransformation:\n",
    "    def __init__(self, config: DataTransformationConfig):\n",
    "        self.config = config\n",
    "        self.tokenizer = M2M100Tokenizer.from_pretrained(self.config.tokenizer_path)\n",
    "\n",
    "    def read_data(self) -> pd.DataFrame:\n",
    "        df = pd.read_csv(self.config.data_path)\n",
    "        logger.info(f\"Data shape: {df.shape}\")\n",
    "        return df\n",
    "\n",
    "    def preprocess_function(self, examples):\n",
    "        inputs = self.tokenizer(examples['en'], max_length=self.config.max_length, truncation=True, padding=\"max_length\")\n",
    "        targets = self.tokenizer(examples['bn'], max_length=self.config.max_length, truncation=True, padding=\"max_length\")\n",
    "        inputs[\"labels\"] = targets[\"input_ids\"]\n",
    "        return inputs\n",
    "\n",
    "    def transform_data(self) -> Tuple[Dataset, Dataset]:\n",
    "        df = self.read_data()\n",
    "        dataset = Dataset.from_pandas(df)\n",
    "        \n",
    "        tokenized_dataset = dataset.map(self.preprocess_function, batched=True, remove_columns=dataset.column_names)\n",
    "        \n",
    "        train_dataset = tokenized_dataset.shuffle(seed=42).select(range(int(len(tokenized_dataset) * 0.8)))\n",
    "        eval_dataset = tokenized_dataset.shuffle(seed=42).select(range(int(len(tokenized_dataset) * 0.8), len(tokenized_dataset)))\n",
    "\n",
    "        return train_dataset, eval_dataset\n",
    "\n",
    "    def save_datasets(self, train_dataset: Dataset, eval_dataset: Dataset):\n",
    "        train_dataset.save_to_disk(os.path.join(self.config.root_dir, \"train\"))\n",
    "        eval_dataset.save_to_disk(os.path.join(self.config.root_dir, \"eval\"))\n",
    "        logger.info(f\"Datasets saved to {self.config.root_dir}\")\n"
   ]
  },
  {
   "cell_type": "code",
   "execution_count": 6,
   "metadata": {},
   "outputs": [
    {
     "name": "stdout",
     "output_type": "stream",
     "text": [
      "[2024-08-09 17:53:59,525: INFO: common: yaml file: config\\config.yaml loaded successfully]\n",
      "[2024-08-09 17:53:59,527: INFO: common: yaml file: params.yaml loaded successfully]\n",
      "[2024-08-09 17:53:59,529: INFO: common: created directory at: artifacts]\n",
      "[2024-08-09 17:53:59,530: INFO: common: created directory at: artifacts/data_transformation]\n",
      "[2024-08-09 17:53:59,889: INFO: 693474816: Data shape: (2000, 2)]\n"
     ]
    },
    {
     "data": {
      "application/vnd.jupyter.widget-view+json": {
       "model_id": "9b7e03de007542f6a95fad3cb84ff256",
       "version_major": 2,
       "version_minor": 0
      },
      "text/plain": [
       "Map:   0%|          | 0/2000 [00:00<?, ? examples/s]"
      ]
     },
     "metadata": {},
     "output_type": "display_data"
    },
    {
     "data": {
      "application/vnd.jupyter.widget-view+json": {
       "model_id": "d4e7b615ebb044eb8150d8db9121b93e",
       "version_major": 2,
       "version_minor": 0
      },
      "text/plain": [
       "Saving the dataset (0/1 shards):   0%|          | 0/1600 [00:00<?, ? examples/s]"
      ]
     },
     "metadata": {},
     "output_type": "display_data"
    },
    {
     "data": {
      "application/vnd.jupyter.widget-view+json": {
       "model_id": "57f5ce584b094e8389dc0ece5ba013c6",
       "version_major": 2,
       "version_minor": 0
      },
      "text/plain": [
       "Saving the dataset (0/1 shards):   0%|          | 0/400 [00:00<?, ? examples/s]"
      ]
     },
     "metadata": {},
     "output_type": "display_data"
    },
    {
     "name": "stdout",
     "output_type": "stream",
     "text": [
      "[2024-08-09 17:54:01,761: INFO: 693474816: Datasets saved to artifacts/data_transformation]\n"
     ]
    }
   ],
   "source": [
    "try:\n",
    "    config = ConfigurationManager()\n",
    "    data_transformation_config = config.get_data_transformation_config()\n",
    "    data_transformation = DataTransformation(config=data_transformation_config)\n",
    "    train_dataset, eval_dataset = data_transformation.transform_data()\n",
    "    data_transformation.save_datasets(train_dataset, eval_dataset)\n",
    "except Exception as e:\n",
    "    raise e"
   ]
  },
  {
   "cell_type": "code",
   "execution_count": null,
   "metadata": {},
   "outputs": [],
   "source": []
  }
 ],
 "metadata": {
  "kernelspec": {
   "display_name": "Python 3",
   "language": "python",
   "name": "python3"
  },
  "language_info": {
   "codemirror_mode": {
    "name": "ipython",
    "version": 3
   },
   "file_extension": ".py",
   "mimetype": "text/x-python",
   "name": "python",
   "nbconvert_exporter": "python",
   "pygments_lexer": "ipython3",
   "version": "3.11.0"
  }
 },
 "nbformat": 4,
 "nbformat_minor": 2
}
